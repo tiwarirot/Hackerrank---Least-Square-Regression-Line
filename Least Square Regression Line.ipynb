{
 "cells": [
  {
   "cell_type": "code",
   "execution_count": null,
   "metadata": {},
   "outputs": [],
   "source": [
    "#A group of five students enrolls in Statistics immediately after taking a Math aptitude test. Each student's Math aptitude test\n",
    "#score, x, and Statistics course grade, y, can be expressed as the following list of (x,y) points:\n",
    "#1. (95, 85)\n",
    "#2. (85, 95)\n",
    "#3. (80, 70)\n",
    "#4. (70, 65)\n",
    "#5. (60, 70)\n",
    "\n",
    "#If a student scored an 80 on the Math aptitude test, what grade would we expect them to achieve in Statistics? Determine the \n",
    "#equation of the best-fit line using the least squares method, then compute and print the value of y when x = 80."
   ]
  },
  {
   "cell_type": "code",
   "execution_count": 2,
   "metadata": {},
   "outputs": [
    {
     "name": "stdout",
     "output_type": "stream",
     "text": [
      "95 85\n",
      "85 95\n",
      "80 70\n",
      "70 65\n",
      "60 70\n",
      "78.288\n"
     ]
    }
   ],
   "source": [
    "#Approach 1\n",
    "n = 5\n",
    "xy = [map(int, input().split()) for _ in range(n)]\n",
    "sx, sy, sx2, sxy = map(sum, zip(*[(x, y, x**2, x * y) for x, y in xy]))\n",
    "b = (n * sxy - sx * sy) / (n * sx2 - sx**2)\n",
    "a = (sy / n) - b * (sx / n)\n",
    "print('{:.3f}'.format(a + b * 80))"
   ]
  },
  {
   "cell_type": "code",
   "execution_count": 3,
   "metadata": {},
   "outputs": [],
   "source": [
    "#Approach 2\n",
    "import numpy as np\n",
    "from sklearn.linear_model import LinearRegression\n",
    "x1 = [95,85,80,70,60]\n",
    "x = np.asarray(x1).reshape(-1,1)\n",
    "y = [85,95,70,65,70]\n",
    "lm = LinearRegression()\n",
    "lm.fit(x,y)\n",
    "a = lm.intercept_\n",
    "b = lm.coef_[0]\n",
    "X = 80\n",
    "print(round((a + b*X),3))"
   ]
  }
 ],
 "metadata": {
  "kernelspec": {
   "display_name": "Python 3",
   "language": "python",
   "name": "python3"
  }
 },
 "nbformat": 4,
 "nbformat_minor": 2
}
